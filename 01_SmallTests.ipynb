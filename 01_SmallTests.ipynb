{
 "cells": [
  {
   "cell_type": "code",
   "execution_count": 13,
   "id": "75b5f3ab",
   "metadata": {},
   "outputs": [
    {
     "data": {
      "text/plain": [
       "<module 'tensor_to_structure.utilities' from '/home/simon/skoltech/chemoinformatics/project/tensor_to_structure/tensor_to_structure/utilities.py'>"
      ]
     },
     "execution_count": 13,
     "metadata": {},
     "output_type": "execute_result"
    }
   ],
   "source": [
    "import tensor_to_structure as ttf\n",
    "import tensor_to_structure.utilities as ttf_utilities\n",
    "import pickle\n",
    "import matplotlib.pyplot as plt\n",
    "import tensorflow as tf\n",
    "\n",
    "# Rerun this cell to load changes in the ttf module\n",
    "import importlib\n",
    "importlib.reload(ttf)\n",
    "importlib.reload(ttf_utilities)"
   ]
  },
  {
   "cell_type": "code",
   "execution_count": 2,
   "id": "3ddb5e51",
   "metadata": {},
   "outputs": [],
   "source": [
    "with open('data/structs', 'rb') as f:\n",
    "    ligands = pickle.load(f)"
   ]
  },
  {
   "cell_type": "code",
   "execution_count": 3,
   "id": "72db918e",
   "metadata": {},
   "outputs": [
    {
     "name": "stdout",
     "output_type": "stream",
     "text": [
      "Bad ligand: 3 Bad Conformer Id\n"
     ]
    }
   ],
   "source": [
    "molecules = []\n",
    "for i, ligand in enumerate(ligands[:12]):\n",
    "    try:\n",
    "        molecule = ttf_utilities.rdkit_to_molecule(ligand)\n",
    "        molecules.append(molecule)\n",
    "    except ValueError as error:\n",
    "        print('Bad ligand:', i, error)"
   ]
  },
  {
   "cell_type": "code",
   "execution_count": 10,
   "id": "1471d62d",
   "metadata": {},
   "outputs": [],
   "source": [
    "vox = ttf_utilities.molecule_to_tensor(molecules[0])"
   ]
  },
  {
   "cell_type": "code",
   "execution_count": 41,
   "id": "6f17513a",
   "metadata": {},
   "outputs": [
    {
     "data": {
      "text/plain": [
       "[(13, 21, 21), (19, 17, 21), (21, 14, 19), (28, 27, 15), (21, 19, 20)]"
      ]
     },
     "execution_count": 41,
     "metadata": {},
     "output_type": "execute_result"
    }
   ],
   "source": [
    "k =5\n",
    "max_channels = tf.math.reduce_max(vox, axis=-1)\n",
    "x_dim, y_dim, z_dim = max_channels.shape\n",
    "max_channels = tf.reshape(max_channels, [-1])\n",
    "_, top_k_indexes = tf.math.top_k(max_channels, k=k)\n",
    "new_indexes = []\n",
    "for max_index in top_k_indexes:\n",
    "    same_good_indexes = tf.where(max_channels == max_channels[max_index])\n",
    "    same_good_indexes = tf.random.shuffle(same_good_indexes)\n",
    "    for index in same_good_indexes:\n",
    "        if index not in new_indexes:\n",
    "            new_indexes.append(index)\n",
    "            break\n",
    "result_indexes = []\n",
    "for index in new_indexes:\n",
    "    index = int(index)\n",
    "    idx_z = index % z_dim\n",
    "    index //= z_dim\n",
    "    idx_y = index % y_dim\n",
    "    index //= y_dim\n",
    "    idx_x = index\n",
    "    result_indexes.append((idx_x, idx_y, idx_z))\n",
    "result_indexes"
   ]
  },
  {
   "cell_type": "code",
   "execution_count": 46,
   "id": "8cb24a89",
   "metadata": {},
   "outputs": [
    {
     "data": {
      "text/plain": [
       "array([0.        , 0.        , 0.00397454, 1.        , 1.        ])"
      ]
     },
     "execution_count": 46,
     "metadata": {},
     "output_type": "execute_result"
    }
   ],
   "source": []
  },
  {
   "cell_type": "code",
   "execution_count": null,
   "id": "df966865",
   "metadata": {},
   "outputs": [],
   "source": []
  }
 ],
 "metadata": {
  "kernelspec": {
   "display_name": "Python 3",
   "language": "python",
   "name": "python3"
  },
  "language_info": {
   "codemirror_mode": {
    "name": "ipython",
    "version": 3
   },
   "file_extension": ".py",
   "mimetype": "text/x-python",
   "name": "python",
   "nbconvert_exporter": "python",
   "pygments_lexer": "ipython3",
   "version": "3.8.8"
  }
 },
 "nbformat": 4,
 "nbformat_minor": 5
}
