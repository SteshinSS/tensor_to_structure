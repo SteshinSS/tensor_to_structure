{
 "cells": [
  {
   "cell_type": "markdown",
   "id": "0913d6ec",
   "metadata": {},
   "source": [
    "# Tensor-To-Structure (tts) Tutorial"
   ]
  },
  {
   "cell_type": "code",
   "execution_count": 1,
   "id": "75b5f3ab",
   "metadata": {},
   "outputs": [
    {
     "data": {
      "text/plain": [
       "<module 'tensor_to_structure.utilities' from '/home/simon/skoltech/chemoinformatics/project/tensor_to_structure/tensor_to_structure/utilities.py'>"
      ]
     },
     "execution_count": 1,
     "metadata": {},
     "output_type": "execute_result"
    }
   ],
   "source": [
    "# Turn off GPU support for the tutorial\n",
    "import os\n",
    "os.environ[\"CUDA_VISIBLE_DEVICES\"] = \"-1\"\n",
    "\n",
    "import tensor_to_structure as tts\n",
    "import tensor_to_structure.utilities as tts_utilities\n",
    "import pickle\n",
    "from rdkit import Chem\n",
    "\n",
    "# For density tensor generation\n",
    "from moleculekit.tools.voxeldescriptors import getVoxelDescriptors\n",
    "import numpy as np\n",
    "\n",
    "# For Mayavi vizualization\n",
    "\n",
    "%gui qt\n",
    "\n",
    "# Rerun this cell to load changes in the ttf module\n",
    "import importlib\n",
    "importlib.reload(tts)\n",
    "importlib.reload(tts_utilities)"
   ]
  },
  {
   "cell_type": "markdown",
   "id": "9aa7ed81",
   "metadata": {},
   "source": [
    "## 1.0 Data structures"
   ]
  },
  {
   "cell_type": "markdown",
   "id": "84a0a701",
   "metadata": {},
   "source": [
    "### 1.1 Atom and Molecule"
   ]
  },
  {
   "cell_type": "markdown",
   "id": "4b2b20a0",
   "metadata": {},
   "source": [
    "Basic objects of the tts module are *Atom* and *Molecule*. Let's create molecule with one carbon atom."
   ]
  },
  {
   "cell_type": "code",
   "execution_count": 2,
   "id": "fba9693f",
   "metadata": {},
   "outputs": [
    {
     "name": "stdout",
     "output_type": "stream",
     "text": [
      "Atoms: [<tensor_to_structure.Atom object at 0x7f59b530a040>]\n",
      "Total atoms: 1\n"
     ]
    }
   ],
   "source": [
    "# Place it at the origin of coordinates\n",
    "coordinates = tts.Coordinates(0.0, 0.0, 0.0)\n",
    "\n",
    "# Atom type could be any integer. Carbon's atomic number will work, but if \n",
    "# there would be several carbon channels (e.g. for aromatic and not), I would \n",
    "# chose different id for each channel.\n",
    "atom_type = 6\n",
    "\n",
    "c_atom = tts.Atom(coordinates, atom_type)\n",
    "\n",
    "my_molecule = tts.Molecule()\n",
    "\n",
    "# Molecule, basically is just a container:\n",
    "my_molecule.add_atom(c_atom)\n",
    "print(\"Atoms:\", my_molecule.atoms)\n",
    "print(\"Total atoms:\", len(my_molecule))"
   ]
  },
  {
   "cell_type": "code",
   "execution_count": 3,
   "id": "b427070d",
   "metadata": {},
   "outputs": [
    {
     "name": "stdout",
     "output_type": "stream",
     "text": [
      "Atoms: [<tensor_to_structure.Atom object at 0x7f59b530a040>, <tensor_to_structure.Atom object at 0x7f59b5310250>]\n",
      "Total atoms: 2\n",
      "\n",
      "Atoms: [<tensor_to_structure.Atom object at 0x7f59b530a040>, <tensor_to_structure.Atom object at 0x7f59b5310250>]\n",
      "Total atoms: 2\n"
     ]
    }
   ],
   "source": [
    "# Let's add one more carbon atom\n",
    "c_atom_second = tts.Atom((1.0, 0.0, 0.0), 6)\n",
    "my_molecule.add_atom(c_atom_second)\n",
    "print(\"Atoms:\", my_molecule.atoms)\n",
    "print(\"Total atoms:\", len(my_molecule))\n",
    "print()\n",
    "\n",
    "# Molecule can be created out of atom list\n",
    "same_molecule = tts.Molecule([c_atom, c_atom_second])\n",
    "print(\"Atoms:\", same_molecule.atoms)\n",
    "print(\"Total atoms:\", len(same_molecule))"
   ]
  },
  {
   "cell_type": "code",
   "execution_count": 4,
   "id": "d704baa3",
   "metadata": {},
   "outputs": [
    {
     "name": "stdout",
     "output_type": "stream",
     "text": [
      "Atoms: [<tensor_to_structure.Atom object at 0x7f59b53178b0>, <tensor_to_structure.Atom object at 0x7f59b530a490>]\n",
      "Total atoms: 2\n"
     ]
    }
   ],
   "source": [
    "# There are already function for converting rdkit molecules into Molecules.\n",
    "# Run 'rdkit_to_molecule??' to read it.\n",
    "rdkit_molecule = Chem.MolFromSmiles('CC')\n",
    "generated_molecule = tts_utilities.rdkit_to_molecule(rdkit_molecule)\n",
    "print(\"Atoms:\", generated_molecule.atoms)\n",
    "print(\"Total atoms:\", len(generated_molecule))"
   ]
  },
  {
   "cell_type": "markdown",
   "id": "14b90a78",
   "metadata": {},
   "source": [
    "### 1.2 AtomDescriptor"
   ]
  },
  {
   "cell_type": "markdown",
   "id": "8e99e059",
   "metadata": {},
   "source": [
    "In order to use Fitter, we need specify how to generate density tensors out of Molecule objects. AtomDescriptor contain atom radius and set of used channels. Let's create a map from atom types to their descriptors."
   ]
  },
  {
   "cell_type": "code",
   "execution_count": 5,
   "id": "cdc9a129",
   "metadata": {},
   "outputs": [],
   "source": [
    "# We will use C, N and O. For this tutorial I decided to\n",
    "# place each atom type in separate channel and I use fourth\n",
    "# channel for occupancy indication.\n",
    "\n",
    "simple_atom_type_to_descriptor = {\n",
    "    # Carbon is placed in 0 channel and its van der waals radius is 1.4 A\n",
    "    6: tts.AtomDescriptor(1.4, {0, 3}),\n",
    "    7: tts.AtomDescriptor(1.35, {1, 3}),\n",
    "    8: tts.AtomDescriptor(1.3, {2, 3}),\n",
    "}"
   ]
  },
  {
   "cell_type": "code",
   "execution_count": 6,
   "id": "24b6e3d9",
   "metadata": {},
   "outputs": [],
   "source": [
    "# In order to describe density tensors creation, user\n",
    "# need to code a function that takes a Molecule object\n",
    "# and return a tensor. For this tutorial I use moleculekit.\n",
    "\n",
    "def molecule_to_tensor(molecule, **kwargs):\n",
    "    \"\"\"Example function for conversion struct to tensor by moleculekit.\n",
    "\n",
    "    molecule -- Molecule object.\n",
    "    \"\"\"\n",
    "    total_channels = 4\n",
    "    \n",
    "    molecule_channels = np.zeros((len(molecule), total_channels))\n",
    "    for i, atom in enumerate(molecule.atoms):\n",
    "        radius, atom_channels = simple_atom_type_to_descriptor[atom.atom_type]\n",
    "        for channel in atom_channels:\n",
    "            molecule_channels[i][channel] = radius\n",
    "\n",
    "    coords = np.zeros((len(molecule), 3, 1))\n",
    "    for i, atom in enumerate(molecule.atoms):\n",
    "        coords[i][0][0], coords[i][1][0], coords[i][2][0] = atom.coordinates\n",
    "\n",
    "    vox, center, shape = getVoxelDescriptors(None,\n",
    "                                             voxelsize=0.5,\n",
    "                                             buffer=1,\n",
    "                                             boxsize=[20, 20, 20],\n",
    "                                             center=[0, 0, 0],\n",
    "                                             userchannels=molecule_channels,\n",
    "                                             usercoords=coords)\n",
    "    vox = vox.reshape((40, 40, 40, total_channels))\n",
    "    return vox"
   ]
  },
  {
   "cell_type": "code",
   "execution_count": 7,
   "id": "db990178",
   "metadata": {},
   "outputs": [],
   "source": [
    "# Let's look at our Molecule\n",
    "density_tensor = molecule_to_tensor(my_molecule)\n",
    "tts_utilities.plot_molecule(density_tensor)"
   ]
  },
  {
   "cell_type": "code",
   "execution_count": 8,
   "id": "cbaadcb4",
   "metadata": {},
   "outputs": [],
   "source": [
    "# Close all visualization windows\n",
    "tts_utilities.close_mlab()"
   ]
  },
  {
   "cell_type": "markdown",
   "id": "3d876019",
   "metadata": {},
   "source": [
    "## 2.0 Molecule Fitting"
   ]
  },
  {
   "cell_type": "markdown",
   "id": "f4a73115",
   "metadata": {},
   "source": [
    "### 2.1 Propane"
   ]
  },
  {
   "cell_type": "markdown",
   "id": "762cd306",
   "metadata": {},
   "source": [
    "Let's convert density tensors back to Molecule objects."
   ]
  },
  {
   "cell_type": "code",
   "execution_count": 9,
   "id": "3f9582bf",
   "metadata": {},
   "outputs": [],
   "source": [
    "# Create simple molecule\n",
    "molecule = Chem.MolFromSmiles('CCC')\n",
    "molecule = tts_utilities.rdkit_to_molecule(molecule)\n",
    "density_tensor = molecule_to_tensor(molecule)\n",
    "\n",
    "# Create Fitter object\n",
    "fitter = tts.Fitter(molecule_to_tensor_func=molecule_to_tensor,\n",
    "                    atom_type_to_descriptor=simple_atom_type_to_descriptor)"
   ]
  },
  {
   "cell_type": "markdown",
   "id": "467aab86",
   "metadata": {},
   "source": [
    "Conversion could take time. If you see good enough norm (< 0.1), just interrupt the run. It will return 10 best results."
   ]
  },
  {
   "cell_type": "code",
   "execution_count": 10,
   "id": "c974656f",
   "metadata": {},
   "outputs": [
    {
     "name": "stderr",
     "output_type": "stream",
     "text": [
      "2021-06-23 18:57:50,960 - tensor_to_structure.dfs - INFO - DFS step. Depth: 3 Best norm: 0.0023218294401596276\n",
      "2021-06-23 18:57:50,968 - tensor_to_structure.dfs - INFO - DFS step. Depth: 4 Best norm: 0.0023218294401596276\n",
      "2021-06-23 18:57:50,974 - tensor_to_structure.dfs - INFO - DFS step. Depth: 2 Best norm: 0.0023218294401596276\n",
      "2021-06-23 18:57:59,776 - tensor_to_structure.dfs - INFO - DFS step. Depth: 3 Best norm: 0.0023218294401596276\n",
      "2021-06-23 18:57:59,783 - tensor_to_structure.dfs - INFO - DFS step. Depth: 4 Best norm: 0.0023218294401596276\n",
      "2021-06-23 18:57:59,790 - tensor_to_structure.dfs - INFO - DFS step. Depth: 6 Best norm: 0.0023218294401596276\n",
      "2021-06-23 18:57:59,797 - tensor_to_structure.dfs - INFO - DFS step. Depth: 5 Best norm: 0.0023218294401596276\n",
      "2021-06-23 18:57:59,803 - tensor_to_structure.dfs - INFO - DFS step. Depth: 1 Best norm: 0.0023218294401596276\n",
      "2021-06-23 18:58:06,235 - tensor_to_structure.dfs - INFO - DFS step. Depth: 5 Best norm: 0.0018991061914854321\n",
      "2021-06-23 18:58:06,241 - tensor_to_structure.dfs - INFO - DFS step. Depth: 3 Best norm: 0.0018991061914854321\n",
      "2021-06-23 18:58:06,247 - tensor_to_structure.dfs - INFO - DFS step. Depth: 4 Best norm: 0.0018991061914854321\n",
      "2021-06-23 18:58:06,256 - tensor_to_structure.dfs - INFO - DFS step. Depth: 2 Best norm: 0.0018991061914854321\n"
     ]
    }
   ],
   "source": [
    "result = fitter.tensor_to_molecule(density_tensor)"
   ]
  },
  {
   "cell_type": "code",
   "execution_count": 11,
   "id": "b85b4e2f",
   "metadata": {},
   "outputs": [
    {
     "name": "stdout",
     "output_type": "stream",
     "text": [
      "Top 3 molecules:\n",
      "Norm of difference beetween density tensors 0.001513663216323078\n",
      "Atoms: A(1.260417651716951 0.2298159973391964 -0.04426220886716626 6), A(-0.06455675556706483 -0.17769449523268208 0.5929479335749775 6), A(-1.2110300309077928 -0.09376864944735179 -0.4101164661339662 6), A(-0.06462231567513002 -0.17765881282250487 0.5928503742194371 6), A(-0.06467124669716563 -0.17766721305284344 0.5928047127759106 6)\n",
      "\n",
      "Norm of difference beetween density tensors 0.0018991061914854321\n",
      "Atoms: A(-1.2110595197993932 -0.09376667030471461 -0.41014901874340826 6), A(1.2604106854012478 0.22981892089898184 -0.04428538291686311 6), A(-0.06457100915744851 -0.17771394553192124 0.5929179100775033 6)\n",
      "\n",
      "Norm of difference beetween density tensors 0.0019644407095383075\n",
      "Atoms: A(-0.06458724856955213 -0.17768709965088442 0.5928962579661508 6), A(1.2603795344234638 0.22981676704294052 -0.044275561235480265 6), A(-1.2110410275892443 -0.0937979386580634 -0.4100970165811105 6)\n",
      "\n"
     ]
    }
   ],
   "source": [
    "print('Top 3 molecules:')\n",
    "for (norm, molecule) in result[:3]:\n",
    "    print('Norm of difference beetween density tensors', norm)\n",
    "    print('Atoms:', molecule)\n",
    "    print()"
   ]
  },
  {
   "cell_type": "markdown",
   "id": "021861cf",
   "metadata": {},
   "source": [
    "You should get molecules with three carbon atoms and low norm about 0.002. Now let's compute density for best suggested molecule and compare it with the original tensor."
   ]
  },
  {
   "cell_type": "code",
   "execution_count": 12,
   "id": "557c2d4d",
   "metadata": {},
   "outputs": [],
   "source": [
    "generated_tensor = molecule_to_tensor(result[0][1])\n",
    "\n",
    "# Show two tensors in 3D\n",
    "tts_utilities.plot_side_by_side(before=density_tensor, after=generated_tensor)"
   ]
  },
  {
   "cell_type": "code",
   "execution_count": 13,
   "id": "3d03ee92",
   "metadata": {},
   "outputs": [],
   "source": [
    "# Close all visualization windows\n",
    "tts_utilities.close_mlab()"
   ]
  },
  {
   "cell_type": "markdown",
   "id": "5bc55dcf",
   "metadata": {},
   "source": [
    "### 2.2 Indole"
   ]
  },
  {
   "cell_type": "markdown",
   "id": "97383e1d",
   "metadata": {},
   "source": [
    "Let's try more interesting molecule with two aromatic rings."
   ]
  },
  {
   "cell_type": "code",
   "execution_count": 14,
   "id": "2043c97e",
   "metadata": {},
   "outputs": [],
   "source": [
    "molecule = Chem.MolFromSmiles('C1=CC=C2C(=C1)C=CN2') # Indole\n",
    "molecule = tts_utilities.rdkit_to_molecule(molecule)\n",
    "original_tensor = molecule_to_tensor(molecule)"
   ]
  },
  {
   "cell_type": "markdown",
   "id": "9094b022",
   "metadata": {},
   "source": [
    "The optimization could take time, so interrupt the run when the norm is good enough."
   ]
  },
  {
   "cell_type": "code",
   "execution_count": 15,
   "id": "2e00819a",
   "metadata": {},
   "outputs": [
    {
     "name": "stderr",
     "output_type": "stream",
     "text": [
      "2021-06-23 18:58:15,707 - tensor_to_structure.dfs - INFO - DFS step. Depth: 4 Best norm: 17.354143436172222\n",
      "2021-06-23 18:58:15,715 - tensor_to_structure.dfs - INFO - DFS step. Depth: 3 Best norm: 17.354143436172222\n",
      "2021-06-23 18:58:15,722 - tensor_to_structure.dfs - INFO - DFS step. Depth: 2 Best norm: 17.354143436172222\n",
      "2021-06-23 18:58:49,987 - tensor_to_structure.dfs - INFO - DFS step. Depth: 6 Best norm: 9.59998852007064\n",
      "2021-06-23 18:58:51,265 - tensor_to_structure.dfs - INFO - DFS step. Depth: 7 Best norm: 6.447043274537217\n",
      "2021-06-23 18:58:51,273 - tensor_to_structure.dfs - INFO - DFS step. Depth: 6 Best norm: 6.447043274537217\n",
      "2021-06-23 18:58:52,656 - tensor_to_structure.dfs - INFO - DFS step. Depth: 7 Best norm: 6.447043274537217\n",
      "2021-06-23 18:58:52,665 - tensor_to_structure.dfs - INFO - DFS step. Depth: 6 Best norm: 6.447043274537217\n",
      "2021-06-23 18:59:15,718 - tensor_to_structure.dfs - INFO - DFS step. Depth: 9 Best norm: 0.00391248767567313\n",
      "2021-06-23 18:59:15,728 - tensor_to_structure.dfs - INFO - DFS step. Depth: 10 Best norm: 0.00391248767567313\n",
      "2021-06-23 18:59:15,737 - tensor_to_structure.dfs - INFO - DFS step. Depth: 8 Best norm: 0.00391248767567313\n",
      "2021-06-23 18:59:40,874 - tensor_to_structure.dfs - INFO - DFS step. Depth: 9 Best norm: 0.00306469092339229\n",
      "2021-06-23 18:59:40,884 - tensor_to_structure.dfs - INFO - DFS step. Depth: 10 Best norm: 0.00306469092339229\n",
      "2021-06-23 18:59:40,892 - tensor_to_structure.dfs - INFO - DFS step. Depth: 11 Best norm: 0.00306469092339229\n",
      "2021-06-23 18:59:40,902 - tensor_to_structure.dfs - INFO - DFS step. Depth: 7 Best norm: 0.00306469092339229\n",
      "2021-06-23 18:59:40,910 - tensor_to_structure.dfs - INFO - DFS step. Depth: 6 Best norm: 0.00306469092339229\n",
      "2021-06-23 18:59:40,917 - tensor_to_structure.dfs - INFO - DFS step. Depth: 6 Best norm: 0.00306469092339229\n"
     ]
    }
   ],
   "source": [
    "result = fitter.tensor_to_molecule(original_tensor)"
   ]
  },
  {
   "cell_type": "code",
   "execution_count": 16,
   "id": "e91d1a75",
   "metadata": {},
   "outputs": [],
   "source": [
    "best_molecule = result[0][1]\n",
    "generated_tensor = molecule_to_tensor(best_molecule)\n",
    "tts_utilities.plot_side_by_side(original_tensor, generated_tensor)"
   ]
  },
  {
   "cell_type": "code",
   "execution_count": 17,
   "id": "af6943bf",
   "metadata": {},
   "outputs": [],
   "source": [
    "# Let's look only to carbon channel\n",
    "tts_utilities.close_mlab()\n",
    "tts_utilities.plot_side_by_side(original_tensor, generated_tensor, channel=0)"
   ]
  },
  {
   "cell_type": "code",
   "execution_count": 18,
   "id": "3b0d93ff",
   "metadata": {},
   "outputs": [],
   "source": [
    "tts_utilities.close_mlab()"
   ]
  },
  {
   "cell_type": "markdown",
   "id": "5fa891d6",
   "metadata": {},
   "source": [
    "### 2.3 Heavy molecule"
   ]
  },
  {
   "cell_type": "markdown",
   "id": "fbfa7201",
   "metadata": {},
   "source": [
    "There are multiple options how to represent atom channels. It's possible that single atom type has several channels and some different types has the same channels. Let's try hard example."
   ]
  },
  {
   "cell_type": "code",
   "execution_count": 19,
   "id": "c5fb1c56",
   "metadata": {},
   "outputs": [],
   "source": [
    "# C, N, O, F, S, Cl, Br \n",
    "hard_atom_type_to_descriptor = {\n",
    "    6: tts.AtomDescriptor(1.4, {0, 4}),\n",
    "    7: tts.AtomDescriptor(1.35, {1, 4}),\n",
    "    8: tts.AtomDescriptor(1.3, {2, 3, 4}),\n",
    "    9: tts.AtomDescriptor(1.25, {1, 4}),\n",
    "    16: tts.AtomDescriptor(1.6, {1, 2, 4}),\n",
    "    17: tts.AtomDescriptor(1.58, {1, 2, 3, 4}),\n",
    "    35: tts.AtomDescriptor(1.7, {0, 2, 4}),\n",
    "}\n",
    "\n",
    "def molecule_to_tensor(molecule, **kwargs):\n",
    "    \"\"\"Example function for conversion struct to tensor by moleculekit.\n",
    "\n",
    "    molecule -- Molecule object.\n",
    "    \"\"\"\n",
    "    total_channels = 5\n",
    "    \n",
    "    molecule_channels = np.zeros((len(molecule), total_channels))\n",
    "    for i, atom in enumerate(molecule.atoms):\n",
    "        radius, atom_channels = hard_atom_type_to_descriptor[atom.atom_type]\n",
    "        for channel in atom_channels:\n",
    "            molecule_channels[i][channel] = radius\n",
    "\n",
    "    coords = np.zeros((len(molecule), 3, 1))\n",
    "    for i, atom in enumerate(molecule.atoms):\n",
    "        coords[i][0][0], coords[i][1][0], coords[i][2][0] = atom.coordinates\n",
    "\n",
    "    vox, center, shape = getVoxelDescriptors(None,\n",
    "                                             voxelsize=0.5,\n",
    "                                             buffer=1,\n",
    "                                             boxsize=[20, 20, 20],\n",
    "                                             center=[0, 0, 0],\n",
    "                                             userchannels=molecule_channels,\n",
    "                                             usercoords=coords)\n",
    "    vox = vox.reshape((40, 40, 40, total_channels))\n",
    "    return vox"
   ]
  },
  {
   "cell_type": "code",
   "execution_count": 20,
   "id": "0a40cdcd",
   "metadata": {},
   "outputs": [
    {
     "data": {
      "image/png": "[encoded data removed]",
      "text/plain": [
       "<rdkit.Chem.rdchem.Mol at 0x7f59b00746d0>"
      ]
     },
     "execution_count": 20,
     "metadata": {},
     "output_type": "execute_result"
    }
   ],
   "source": [
    "with open('tensor_to_structure/heavy_ligand', 'rb') as f:\n",
    "    molecule = pickle.load(f)\n",
    "molecule"
   ]
  },
  {
   "cell_type": "code",
   "execution_count": 21,
   "id": "80f55ef6",
   "metadata": {},
   "outputs": [],
   "source": [
    "molecule = tts_utilities.rdkit_to_molecule(molecule)\n",
    "original_tensor = molecule_to_tensor(molecule)\n",
    "fitter = tts.Fitter(molecule_to_tensor_func=molecule_to_tensor,\n",
    "                    atom_type_to_descriptor=hard_atom_type_to_descriptor)"
   ]
  },
  {
   "cell_type": "code",
   "execution_count": 32,
   "id": "0f5f2e51",
   "metadata": {},
   "outputs": [],
   "source": [
    "# Since the optimization will take forever, let's change base settings to the make fitter less accurate.\n",
    "# Read Fitter code to see other settings or github README.\n",
    "fitter.max_atom_by_dfs_step = 2\n",
    "fitter.max_molecules_by_dfs_step = 5"
   ]
  },
  {
   "cell_type": "code",
   "execution_count": 33,
   "id": "fafb1575",
   "metadata": {},
   "outputs": [
    {
     "name": "stderr",
     "output_type": "stream",
     "text": [
      "2021-06-23 19:13:09,178 - tensor_to_structure.dfs - INFO - DFS step. Depth: 2 Best norm: 51.17723206657693\n",
      "2021-06-23 19:13:09,791 - tensor_to_structure.dfs - INFO - DFS step. Depth: 4 Best norm: 51.17723206657693\n",
      "2021-06-23 19:13:16,210 - tensor_to_structure.dfs - INFO - DFS step. Depth: 6 Best norm: 39.74393946754656\n",
      "2021-06-23 19:13:23,901 - tensor_to_structure.dfs - INFO - DFS step. Depth: 8 Best norm: 32.04297450849689\n",
      "2021-06-23 19:13:27,747 - tensor_to_structure.dfs - INFO - DFS step. Depth: 10 Best norm: 32.04297450849689\n",
      "2021-06-23 19:13:32,837 - tensor_to_structure.dfs - INFO - DFS step. Depth: 12 Best norm: 19.938541269771466\n",
      "2021-06-23 19:13:32,844 - tensor_to_structure.dfs - INFO - DFS step. Depth: 12 Best norm: 19.938541269771466\n",
      "2021-06-23 19:13:32,852 - tensor_to_structure.dfs - INFO - DFS step. Depth: 11 Best norm: 19.938541269771466\n",
      "2021-06-23 19:13:45,789 - tensor_to_structure.dfs - INFO - DFS step. Depth: 13 Best norm: 19.938541269771466\n",
      "2021-06-23 19:13:45,797 - tensor_to_structure.dfs - INFO - DFS step. Depth: 12 Best norm: 19.938541269771466\n",
      "2021-06-23 19:13:45,805 - tensor_to_structure.dfs - INFO - DFS step. Depth: 13 Best norm: 19.938541269771466\n",
      "2021-06-23 19:13:45,813 - tensor_to_structure.dfs - INFO - DFS step. Depth: 13 Best norm: 19.938541269771466\n",
      "2021-06-23 19:13:45,821 - tensor_to_structure.dfs - INFO - DFS step. Depth: 12 Best norm: 19.938541269771466\n",
      "2021-06-23 19:13:45,828 - tensor_to_structure.dfs - INFO - DFS step. Depth: 9 Best norm: 19.938541269771466\n",
      "2021-06-23 19:13:51,280 - tensor_to_structure.dfs - INFO - DFS step. Depth: 11 Best norm: 19.938541269771466\n",
      "2021-06-23 19:13:51,287 - tensor_to_structure.dfs - INFO - DFS step. Depth: 11 Best norm: 19.938541269771466\n",
      "2021-06-23 19:13:51,294 - tensor_to_structure.dfs - INFO - DFS step. Depth: 10 Best norm: 19.938541269771466\n",
      "2021-06-23 19:14:04,927 - tensor_to_structure.dfs - INFO - DFS step. Depth: 12 Best norm: 19.938541269771466\n",
      "2021-06-23 19:14:04,937 - tensor_to_structure.dfs - INFO - DFS step. Depth: 11 Best norm: 19.938541269771466\n",
      "2021-06-23 19:14:04,945 - tensor_to_structure.dfs - INFO - DFS step. Depth: 12 Best norm: 19.938541269771466\n",
      "2021-06-23 19:14:04,955 - tensor_to_structure.dfs - INFO - DFS step. Depth: 12 Best norm: 19.938541269771466\n",
      "2021-06-23 19:14:04,966 - tensor_to_structure.dfs - INFO - DFS step. Depth: 11 Best norm: 19.938541269771466\n",
      "2021-06-23 19:14:04,988 - tensor_to_structure.dfs - INFO - DFS step. Depth: 8 Best norm: 19.938541269771466\n",
      "2021-06-23 19:14:08,591 - tensor_to_structure.dfs - INFO - DFS step. Depth: 10 Best norm: 19.938541269771466\n",
      "2021-06-23 19:14:17,942 - tensor_to_structure.dfs - INFO - DFS step. Depth: 12 Best norm: 19.938541269771466\n",
      "2021-06-23 19:14:17,950 - tensor_to_structure.dfs - INFO - DFS step. Depth: 12 Best norm: 19.938541269771466\n",
      "2021-06-23 19:14:17,957 - tensor_to_structure.dfs - INFO - DFS step. Depth: 11 Best norm: 19.938541269771466\n",
      "2021-06-23 19:14:30,090 - tensor_to_structure.dfs - INFO - DFS step. Depth: 13 Best norm: 19.938541269771466\n",
      "2021-06-23 19:14:30,101 - tensor_to_structure.dfs - INFO - DFS step. Depth: 12 Best norm: 19.938541269771466\n",
      "2021-06-23 19:14:30,111 - tensor_to_structure.dfs - INFO - DFS step. Depth: 13 Best norm: 19.938541269771466\n",
      "2021-06-23 19:14:30,121 - tensor_to_structure.dfs - INFO - DFS step. Depth: 13 Best norm: 19.938541269771466\n",
      "2021-06-23 19:14:30,130 - tensor_to_structure.dfs - INFO - DFS step. Depth: 12 Best norm: 19.938541269771466\n",
      "2021-06-23 19:14:30,138 - tensor_to_structure.dfs - INFO - DFS step. Depth: 9 Best norm: 19.938541269771466\n",
      "2021-06-23 19:14:36,652 - tensor_to_structure.dfs - INFO - DFS step. Depth: 11 Best norm: 19.938541269771466\n",
      "2021-06-23 19:14:36,660 - tensor_to_structure.dfs - INFO - DFS step. Depth: 11 Best norm: 19.938541269771466\n",
      "2021-06-23 19:14:36,677 - tensor_to_structure.dfs - INFO - DFS step. Depth: 10 Best norm: 19.938541269771466\n",
      "2021-06-23 19:14:51,601 - tensor_to_structure.dfs - INFO - DFS step. Depth: 12 Best norm: 19.938541269771466\n",
      "2021-06-23 19:14:51,611 - tensor_to_structure.dfs - INFO - DFS step. Depth: 12 Best norm: 19.938541269771466\n",
      "2021-06-23 19:14:51,621 - tensor_to_structure.dfs - INFO - DFS step. Depth: 11 Best norm: 19.938541269771466\n",
      "2021-06-23 19:14:51,638 - tensor_to_structure.dfs - INFO - DFS step. Depth: 12 Best norm: 19.938541269771466\n",
      "2021-06-23 19:14:51,651 - tensor_to_structure.dfs - INFO - DFS step. Depth: 11 Best norm: 19.938541269771466\n",
      "2021-06-23 19:14:51,660 - tensor_to_structure.dfs - INFO - DFS step. Depth: 8 Best norm: 19.938541269771466\n",
      "2021-06-23 19:14:56,046 - tensor_to_structure.dfs - INFO - DFS step. Depth: 10 Best norm: 19.938541269771466\n",
      "2021-06-23 19:15:04,513 - tensor_to_structure.dfs - INFO - DFS step. Depth: 12 Best norm: 19.938541269771466\n",
      "2021-06-23 19:15:04,521 - tensor_to_structure.dfs - INFO - DFS step. Depth: 12 Best norm: 19.938541269771466\n",
      "2021-06-23 19:15:04,529 - tensor_to_structure.dfs - INFO - DFS step. Depth: 11 Best norm: 19.938541269771466\n",
      "2021-06-23 19:15:16,438 - tensor_to_structure.dfs - INFO - DFS step. Depth: 13 Best norm: 19.938541269771466\n",
      "2021-06-23 19:15:16,446 - tensor_to_structure.dfs - INFO - DFS step. Depth: 12 Best norm: 19.938541269771466\n",
      "2021-06-23 19:15:16,453 - tensor_to_structure.dfs - INFO - DFS step. Depth: 13 Best norm: 19.938541269771466\n",
      "2021-06-23 19:15:16,461 - tensor_to_structure.dfs - INFO - DFS step. Depth: 12 Best norm: 19.938541269771466\n",
      "2021-06-23 19:15:16,469 - tensor_to_structure.dfs - INFO - DFS step. Depth: 13 Best norm: 19.938541269771466\n",
      "2021-06-23 19:15:16,477 - tensor_to_structure.dfs - INFO - DFS step. Depth: 9 Best norm: 19.938541269771466\n",
      "2021-06-23 19:15:21,154 - tensor_to_structure.dfs - INFO - DFS step. Depth: 11 Best norm: 19.938541269771466\n",
      "2021-06-23 19:15:21,162 - tensor_to_structure.dfs - INFO - DFS step. Depth: 11 Best norm: 19.938541269771466\n",
      "2021-06-23 19:15:21,169 - tensor_to_structure.dfs - INFO - DFS step. Depth: 10 Best norm: 19.938541269771466\n",
      "2021-06-23 19:15:31,160 - tensor_to_structure.dfs - INFO - DFS step. Depth: 12 Best norm: 19.938541269771466\n",
      "2021-06-23 19:15:31,168 - tensor_to_structure.dfs - INFO - DFS step. Depth: 12 Best norm: 19.938541269771466\n",
      "2021-06-23 19:15:31,176 - tensor_to_structure.dfs - INFO - DFS step. Depth: 12 Best norm: 19.938541269771466\n",
      "2021-06-23 19:15:31,183 - tensor_to_structure.dfs - INFO - DFS step. Depth: 11 Best norm: 19.938541269771466\n",
      "2021-06-23 19:15:31,192 - tensor_to_structure.dfs - INFO - DFS step. Depth: 11 Best norm: 19.938541269771466\n",
      "2021-06-23 19:15:31,200 - tensor_to_structure.dfs - INFO - DFS step. Depth: 8 Best norm: 19.938541269771466\n",
      "2021-06-23 19:15:34,370 - tensor_to_structure.dfs - INFO - DFS step. Depth: 10 Best norm: 19.938541269771466\n",
      "2021-06-23 19:15:42,331 - tensor_to_structure.dfs - INFO - DFS step. Depth: 12 Best norm: 19.938541269771466\n",
      "2021-06-23 19:15:42,339 - tensor_to_structure.dfs - INFO - DFS step. Depth: 12 Best norm: 19.938541269771466\n",
      "2021-06-23 19:15:42,346 - tensor_to_structure.dfs - INFO - DFS step. Depth: 11 Best norm: 19.938541269771466\n",
      "2021-06-23 19:15:54,610 - tensor_to_structure.dfs - INFO - DFS step. Depth: 13 Best norm: 19.938541269771466\n",
      "2021-06-23 19:15:54,618 - tensor_to_structure.dfs - INFO - DFS step. Depth: 13 Best norm: 19.938541269771466\n",
      "2021-06-23 19:15:54,626 - tensor_to_structure.dfs - INFO - DFS step. Depth: 12 Best norm: 19.938541269771466\n",
      "2021-06-23 19:15:54,634 - tensor_to_structure.dfs - INFO - DFS step. Depth: 13 Best norm: 19.938541269771466\n",
      "2021-06-23 19:15:54,642 - tensor_to_structure.dfs - INFO - DFS step. Depth: 13 Best norm: 19.938541269771466\n",
      "2021-06-23 19:15:54,650 - tensor_to_structure.dfs - INFO - DFS step. Depth: 9 Best norm: 19.938541269771466\n",
      "2021-06-23 19:16:01,097 - tensor_to_structure.dfs - INFO - DFS step. Depth: 11 Best norm: 19.938541269771466\n",
      "2021-06-23 19:16:01,105 - tensor_to_structure.dfs - INFO - DFS step. Depth: 11 Best norm: 19.938541269771466\n",
      "2021-06-23 19:16:01,112 - tensor_to_structure.dfs - INFO - DFS step. Depth: 10 Best norm: 19.938541269771466\n",
      "2021-06-23 19:16:10,900 - tensor_to_structure.dfs - INFO - DFS step. Depth: 12 Best norm: 19.938541269771466\n",
      "2021-06-23 19:16:10,907 - tensor_to_structure.dfs - INFO - DFS step. Depth: 11 Best norm: 19.938541269771466\n"
     ]
    },
    {
     "name": "stderr",
     "output_type": "stream",
     "text": [
      "2021-06-23 19:16:10,915 - tensor_to_structure.dfs - INFO - DFS step. Depth: 12 Best norm: 19.938541269771466\n",
      "2021-06-23 19:16:10,922 - tensor_to_structure.dfs - INFO - DFS step. Depth: 12 Best norm: 19.938541269771466\n",
      "2021-06-23 19:16:10,930 - tensor_to_structure.dfs - INFO - DFS step. Depth: 11 Best norm: 19.938541269771466\n",
      "2021-06-23 19:16:10,937 - tensor_to_structure.dfs - INFO - DFS step. Depth: 7 Best norm: 19.938541269771466\n",
      "2021-06-23 19:16:14,171 - tensor_to_structure.dfs - INFO - DFS step. Depth: 9 Best norm: 19.938541269771466\n",
      "2021-06-23 19:16:18,337 - tensor_to_structure.dfs - INFO - DFS step. Depth: 11 Best norm: 19.938541269771466\n",
      "2021-06-23 19:16:18,344 - tensor_to_structure.dfs - INFO - DFS step. Depth: 11 Best norm: 19.938541269771466\n",
      "2021-06-23 19:16:18,351 - tensor_to_structure.dfs - INFO - DFS step. Depth: 10 Best norm: 19.938541269771466\n",
      "2021-06-23 19:16:29,659 - tensor_to_structure.dfs - INFO - DFS step. Depth: 12 Best norm: 19.938541269771466\n",
      "2021-06-23 19:16:29,667 - tensor_to_structure.dfs - INFO - DFS step. Depth: 11 Best norm: 19.938541269771466\n",
      "2021-06-23 19:16:29,674 - tensor_to_structure.dfs - INFO - DFS step. Depth: 12 Best norm: 19.938541269771466\n",
      "2021-06-23 19:16:29,682 - tensor_to_structure.dfs - INFO - DFS step. Depth: 12 Best norm: 19.938541269771466\n",
      "2021-06-23 19:16:29,690 - tensor_to_structure.dfs - INFO - DFS step. Depth: 11 Best norm: 19.938541269771466\n",
      "2021-06-23 19:16:29,697 - tensor_to_structure.dfs - INFO - DFS step. Depth: 8 Best norm: 19.938541269771466\n",
      "2021-06-23 19:16:33,051 - tensor_to_structure.dfs - INFO - DFS step. Depth: 10 Best norm: 19.938541269771466\n",
      "2021-06-23 19:16:33,058 - tensor_to_structure.dfs - INFO - DFS step. Depth: 10 Best norm: 19.938541269771466\n",
      "2021-06-23 19:16:33,065 - tensor_to_structure.dfs - INFO - DFS step. Depth: 9 Best norm: 19.938541269771466\n",
      "2021-06-23 19:16:42,005 - tensor_to_structure.dfs - INFO - DFS step. Depth: 11 Best norm: 19.938541269771466\n",
      "2021-06-23 19:16:42,013 - tensor_to_structure.dfs - INFO - DFS step. Depth: 11 Best norm: 19.938541269771466\n",
      "2021-06-23 19:16:42,020 - tensor_to_structure.dfs - INFO - DFS step. Depth: 11 Best norm: 19.938541269771466\n",
      "2021-06-23 19:16:42,028 - tensor_to_structure.dfs - INFO - DFS step. Depth: 10 Best norm: 19.938541269771466\n",
      "2021-06-23 19:16:42,035 - tensor_to_structure.dfs - INFO - DFS step. Depth: 10 Best norm: 19.938541269771466\n",
      "2021-06-23 19:16:42,042 - tensor_to_structure.dfs - INFO - DFS step. Depth: 6 Best norm: 19.938541269771466\n",
      "2021-06-23 19:16:42,049 - tensor_to_structure.dfs - INFO - DFS step. Depth: 6 Best norm: 19.938541269771466\n",
      "2021-06-23 19:16:42,056 - tensor_to_structure.dfs - INFO - DFS step. Depth: 6 Best norm: 19.938541269771466\n",
      "2021-06-23 19:16:42,062 - tensor_to_structure.dfs - INFO - DFS step. Depth: 6 Best norm: 19.938541269771466\n",
      "2021-06-23 19:16:42,068 - tensor_to_structure.dfs - INFO - DFS step. Depth: 3 Best norm: 19.938541269771466\n",
      "2021-06-23 19:16:45,812 - tensor_to_structure.dfs - INFO - DFS step. Depth: 5 Best norm: 19.938541269771466\n",
      "2021-06-23 19:16:51,569 - tensor_to_structure.dfs - INFO - DFS step. Depth: 7 Best norm: 19.938541269771466\n",
      "2021-06-23 19:16:51,577 - tensor_to_structure.dfs - INFO - DFS step. Depth: 7 Best norm: 19.938541269771466\n",
      "2021-06-23 19:16:51,583 - tensor_to_structure.dfs - INFO - DFS step. Depth: 7 Best norm: 19.938541269771466\n",
      "2021-06-23 19:16:51,590 - tensor_to_structure.dfs - INFO - DFS step. Depth: 7 Best norm: 19.938541269771466\n",
      "2021-06-23 19:16:51,596 - tensor_to_structure.dfs - INFO - DFS step. Depth: 6 Best norm: 19.938541269771466\n",
      "2021-06-23 19:17:26,214 - tensor_to_structure.dfs - INFO - DFS step. Depth: 8 Best norm: 19.938541269771466\n",
      "2021-06-23 19:17:29,691 - tensor_to_structure.dfs - INFO - DFS step. Depth: 10 Best norm: 19.938541269771466\n",
      "2021-06-23 19:17:38,049 - tensor_to_structure.dfs - INFO - DFS step. Depth: 12 Best norm: 19.938541269771466\n",
      "2021-06-23 19:17:38,056 - tensor_to_structure.dfs - INFO - DFS step. Depth: 12 Best norm: 19.938541269771466\n",
      "2021-06-23 19:17:38,063 - tensor_to_structure.dfs - INFO - DFS step. Depth: 11 Best norm: 19.938541269771466\n",
      "2021-06-23 19:17:43,820 - tensor_to_structure.dfs - INFO - DFS step. Depth: 13 Best norm: 17.708621467976428\n",
      "2021-06-23 19:17:43,830 - tensor_to_structure.dfs - INFO - DFS step. Depth: 12 Best norm: 17.708621467976428\n",
      "2021-06-23 19:17:43,838 - tensor_to_structure.dfs - INFO - DFS step. Depth: 11 Best norm: 17.708621467976428\n",
      "2021-06-23 19:17:46,139 - tensor_to_structure.dfs - INFO - DFS step. Depth: 12 Best norm: 17.708621467976428\n",
      "2021-06-23 19:17:46,146 - tensor_to_structure.dfs - INFO - DFS step. Depth: 9 Best norm: 17.708621467976428\n",
      "2021-06-23 19:17:51,999 - tensor_to_structure.dfs - INFO - DFS step. Depth: 11 Best norm: 17.708621467976428\n",
      "2021-06-23 19:17:52,007 - tensor_to_structure.dfs - INFO - DFS step. Depth: 11 Best norm: 17.708621467976428\n",
      "2021-06-23 19:17:52,014 - tensor_to_structure.dfs - INFO - DFS step. Depth: 10 Best norm: 17.708621467976428\n",
      "2021-06-23 19:17:57,110 - tensor_to_structure.dfs - INFO - DFS step. Depth: 12 Best norm: 17.705473469492258\n",
      "2021-06-23 19:17:57,118 - tensor_to_structure.dfs - INFO - DFS step. Depth: 11 Best norm: 17.705473469492258\n",
      "2021-06-23 19:17:57,125 - tensor_to_structure.dfs - INFO - DFS step. Depth: 10 Best norm: 17.705473469492258\n",
      "2021-06-23 19:17:59,666 - tensor_to_structure.dfs - INFO - DFS step. Depth: 11 Best norm: 17.705473469492258\n",
      "2021-06-23 19:17:59,673 - tensor_to_structure.dfs - INFO - DFS step. Depth: 8 Best norm: 17.705473469492258\n",
      "2021-06-23 19:18:01,965 - tensor_to_structure.dfs - INFO - DFS step. Depth: 9 Best norm: 17.705473469492258\n",
      "2021-06-23 19:18:04,482 - tensor_to_structure.dfs - INFO - DFS step. Depth: 10 Best norm: 17.705473469492258\n",
      "2021-06-23 19:18:04,489 - tensor_to_structure.dfs - INFO - DFS step. Depth: 10 Best norm: 17.705473469492258\n",
      "2021-06-23 19:18:04,496 - tensor_to_structure.dfs - INFO - DFS step. Depth: 10 Best norm: 17.705473469492258\n",
      "2021-06-23 19:18:07,677 - tensor_to_structure.dfs - INFO - DFS step. Depth: 11 Best norm: 17.705473469492258\n",
      "2021-06-23 19:18:07,685 - tensor_to_structure.dfs - INFO - DFS step. Depth: 11 Best norm: 17.705473469492258\n",
      "2021-06-23 19:18:07,692 - tensor_to_structure.dfs - INFO - DFS step. Depth: 8 Best norm: 17.705473469492258\n",
      "2021-06-23 19:18:09,916 - tensor_to_structure.dfs - INFO - DFS step. Depth: 9 Best norm: 17.705473469492258\n",
      "2021-06-23 19:18:20,061 - tensor_to_structure.dfs - INFO - DFS step. Depth: 11 Best norm: 17.705473469492258\n",
      "2021-06-23 19:18:20,068 - tensor_to_structure.dfs - INFO - DFS step. Depth: 10 Best norm: 17.705473469492258\n",
      "2021-06-23 19:18:20,075 - tensor_to_structure.dfs - INFO - DFS step. Depth: 11 Best norm: 17.705473469492258\n",
      "2021-06-23 19:18:20,082 - tensor_to_structure.dfs - INFO - DFS step. Depth: 11 Best norm: 17.705473469492258\n",
      "2021-06-23 19:18:20,090 - tensor_to_structure.dfs - INFO - DFS step. Depth: 11 Best norm: 17.705473469492258\n",
      "2021-06-23 19:18:20,097 - tensor_to_structure.dfs - INFO - DFS step. Depth: 10 Best norm: 17.705473469492258\n",
      "2021-06-23 19:18:32,099 - tensor_to_structure.dfs - INFO - DFS step. Depth: 12 Best norm: 17.705473469492258\n",
      "2021-06-23 19:18:32,107 - tensor_to_structure.dfs - INFO - DFS step. Depth: 11 Best norm: 17.705473469492258\n",
      "2021-06-23 19:18:32,114 - tensor_to_structure.dfs - INFO - DFS step. Depth: 11 Best norm: 17.705473469492258\n",
      "2021-06-23 19:18:32,123 - tensor_to_structure.dfs - INFO - DFS step. Depth: 12 Best norm: 17.705473469492258\n",
      "2021-06-23 19:18:32,131 - tensor_to_structure.dfs - INFO - DFS step. Depth: 12 Best norm: 17.705473469492258\n",
      "2021-06-23 19:18:32,138 - tensor_to_structure.dfs - INFO - DFS step. Depth: 8 Best norm: 17.705473469492258\n",
      "2021-06-23 19:18:35,868 - tensor_to_structure.dfs - INFO - DFS step. Depth: 9 Best norm: 17.705473469492258\n",
      "2021-06-23 19:18:44,741 - tensor_to_structure.dfs - INFO - DFS step. Depth: 11 Best norm: 17.705473469492258\n",
      "2021-06-23 19:18:44,748 - tensor_to_structure.dfs - INFO - DFS step. Depth: 10 Best norm: 17.705473469492258\n",
      "2021-06-23 19:18:44,755 - tensor_to_structure.dfs - INFO - DFS step. Depth: 11 Best norm: 17.705473469492258\n",
      "2021-06-23 19:18:44,763 - tensor_to_structure.dfs - INFO - DFS step. Depth: 11 Best norm: 17.705473469492258\n"
     ]
    },
    {
     "name": "stderr",
     "output_type": "stream",
     "text": [
      "2021-06-23 19:18:44,770 - tensor_to_structure.dfs - INFO - DFS step. Depth: 11 Best norm: 17.705473469492258\n",
      "2021-06-23 19:18:44,777 - tensor_to_structure.dfs - INFO - DFS step. Depth: 10 Best norm: 17.705473469492258\n",
      "2021-06-23 19:18:57,330 - tensor_to_structure.dfs - INFO - DFS step. Depth: 12 Best norm: 17.705473469492258\n",
      "2021-06-23 19:18:57,337 - tensor_to_structure.dfs - INFO - DFS step. Depth: 11 Best norm: 17.705473469492258\n",
      "2021-06-23 19:18:57,345 - tensor_to_structure.dfs - INFO - DFS step. Depth: 12 Best norm: 17.705473469492258\n",
      "2021-06-23 19:18:57,353 - tensor_to_structure.dfs - INFO - DFS step. Depth: 12 Best norm: 17.705473469492258\n",
      "2021-06-23 19:18:57,360 - tensor_to_structure.dfs - INFO - DFS step. Depth: 11 Best norm: 17.705473469492258\n",
      "2021-06-23 19:18:57,367 - tensor_to_structure.dfs - INFO - DFS step. Depth: 8 Best norm: 17.705473469492258\n",
      "2021-06-23 19:19:01,460 - tensor_to_structure.dfs - INFO - DFS step. Depth: 10 Best norm: 17.705473469492258\n",
      "2021-06-23 19:19:01,467 - tensor_to_structure.dfs - INFO - DFS step. Depth: 10 Best norm: 17.705473469492258\n",
      "2021-06-23 19:19:01,474 - tensor_to_structure.dfs - INFO - DFS step. Depth: 9 Best norm: 17.705473469492258\n",
      "2021-06-23 19:19:08,978 - tensor_to_structure.dfs - INFO - DFS step. Depth: 11 Best norm: 17.705473469492258\n",
      "2021-06-23 19:19:08,985 - tensor_to_structure.dfs - INFO - DFS step. Depth: 11 Best norm: 17.705473469492258\n",
      "2021-06-23 19:19:08,993 - tensor_to_structure.dfs - INFO - DFS step. Depth: 10 Best norm: 17.705473469492258\n",
      "2021-06-23 19:19:13,816 - tensor_to_structure.dfs - INFO - DFS step. Depth: 12 Best norm: 17.705473469492258\n",
      "2021-06-23 19:19:13,824 - tensor_to_structure.dfs - INFO - DFS step. Depth: 11 Best norm: 17.705473469492258\n",
      "2021-06-23 19:19:13,831 - tensor_to_structure.dfs - INFO - DFS step. Depth: 10 Best norm: 17.705473469492258\n",
      "2021-06-23 19:19:13,850 - tensor_to_structure.dfs - INFO - DFS step. Depth: 5 Best norm: 17.705473469492258\n",
      "2021-06-23 19:19:13,865 - tensor_to_structure.dfs - INFO - DFS step. Depth: 5 Best norm: 17.705473469492258\n",
      "2021-06-23 19:19:14,896 - tensor_to_structure.dfs - INFO - DFS step. Depth: 6 Best norm: 17.705473469492258\n",
      "2021-06-23 19:19:14,903 - tensor_to_structure.dfs - INFO - DFS step. Depth: 6 Best norm: 17.705473469492258\n",
      "2021-06-23 19:19:14,908 - tensor_to_structure.dfs - INFO - DFS step. Depth: 4 Best norm: 17.705473469492258\n",
      "2021-06-23 19:19:33,544 - tensor_to_structure.dfs - INFO - DFS step. Depth: 6 Best norm: 17.705473469492258\n",
      "2021-06-23 19:19:33,562 - tensor_to_structure.dfs - INFO - DFS step. Depth: 6 Best norm: 17.705473469492258\n",
      "2021-06-23 19:19:33,579 - tensor_to_structure.dfs - INFO - DFS step. Depth: 6 Best norm: 17.705473469492258\n",
      "2021-06-23 19:19:33,590 - tensor_to_structure.dfs - INFO - DFS step. Depth: 6 Best norm: 17.705473469492258\n",
      "2021-06-23 19:19:33,601 - tensor_to_structure.dfs - INFO - DFS step. Depth: 6 Best norm: 17.705473469492258\n",
      "2021-06-23 19:19:33,611 - tensor_to_structure.dfs - INFO - DFS step. Depth: 5 Best norm: 17.705473469492258\n",
      "2021-06-23 19:19:33,622 - tensor_to_structure.dfs - INFO - DFS step. Depth: 2 Best norm: 17.705473469492258\n",
      "2021-06-23 19:19:33,637 - tensor_to_structure.dfs - INFO - DFS step. Depth: 2 Best norm: 17.705473469492258\n",
      "2021-06-23 19:19:34,625 - tensor_to_structure.dfs - INFO - DFS step. Depth: 3 Best norm: 17.705473469492258\n",
      "2021-06-23 19:19:57,841 - tensor_to_structure.dfs - INFO - DFS step. Depth: 5 Best norm: 17.705473469492258\n",
      "2021-06-23 19:20:00,030 - tensor_to_structure.dfs - INFO - DFS step. Depth: 7 Best norm: 17.705473469492258\n",
      "2021-06-23 19:20:14,555 - tensor_to_structure.dfs - INFO - DFS step. Depth: 9 Best norm: 17.705473469492258\n",
      "2021-06-23 19:20:17,437 - tensor_to_structure.dfs - INFO - DFS step. Depth: 11 Best norm: 17.705473469492258\n",
      "2021-06-23 19:20:44,744 - tensor_to_structure.dfs - INFO - DFS step. Depth: 13 Best norm: 17.705473469492258\n",
      "2021-06-23 19:20:44,752 - tensor_to_structure.dfs - INFO - DFS step. Depth: 13 Best norm: 17.705473469492258\n",
      "2021-06-23 19:20:44,760 - tensor_to_structure.dfs - INFO - DFS step. Depth: 13 Best norm: 17.705473469492258\n",
      "2021-06-23 19:20:44,767 - tensor_to_structure.dfs - INFO - DFS step. Depth: 12 Best norm: 17.705473469492258\n",
      "2021-06-23 19:20:44,775 - tensor_to_structure.dfs - INFO - DFS step. Depth: 12 Best norm: 17.705473469492258\n",
      "2021-06-23 19:20:44,782 - tensor_to_structure.dfs - INFO - DFS step. Depth: 10 Best norm: 17.705473469492258\n",
      "2021-06-23 19:21:11,037 - tensor_to_structure.dfs - INFO - DFS step. Depth: 12 Best norm: 17.705473469492258\n",
      "2021-06-23 19:21:11,047 - tensor_to_structure.dfs - INFO - DFS step. Depth: 12 Best norm: 17.705473469492258\n",
      "2021-06-23 19:21:11,055 - tensor_to_structure.dfs - INFO - DFS step. Depth: 12 Best norm: 17.705473469492258\n",
      "2021-06-23 19:21:11,063 - tensor_to_structure.dfs - INFO - DFS step. Depth: 11 Best norm: 17.705473469492258\n",
      "2021-06-23 19:21:11,071 - tensor_to_structure.dfs - INFO - DFS step. Depth: 11 Best norm: 17.705473469492258\n",
      "2021-06-23 19:21:11,078 - tensor_to_structure.dfs - INFO - DFS step. Depth: 9 Best norm: 17.705473469492258\n",
      "2021-06-23 19:21:13,860 - tensor_to_structure.dfs - INFO - DFS step. Depth: 11 Best norm: 17.705473469492258\n",
      "2021-06-23 19:21:43,266 - tensor_to_structure.dfs - INFO - DFS step. Depth: 13 Best norm: 17.705473469492258\n",
      "2021-06-23 19:21:43,275 - tensor_to_structure.dfs - INFO - DFS step. Depth: 13 Best norm: 17.705473469492258\n",
      "2021-06-23 19:21:43,284 - tensor_to_structure.dfs - INFO - DFS step. Depth: 13 Best norm: 17.705473469492258\n",
      "2021-06-23 19:21:43,292 - tensor_to_structure.dfs - INFO - DFS step. Depth: 12 Best norm: 17.705473469492258\n",
      "2021-06-23 19:21:43,300 - tensor_to_structure.dfs - INFO - DFS step. Depth: 12 Best norm: 17.705473469492258\n",
      "2021-06-23 19:21:43,308 - tensor_to_structure.dfs - INFO - DFS step. Depth: 10 Best norm: 17.705473469492258\n",
      "2021-06-23 19:22:05,200 - tensor_to_structure.dfs - INFO - DFS step. Depth: 12 Best norm: 17.705473469492258\n",
      "2021-06-23 19:22:05,208 - tensor_to_structure.dfs - INFO - DFS step. Depth: 12 Best norm: 17.705473469492258\n",
      "2021-06-23 19:22:05,216 - tensor_to_structure.dfs - INFO - DFS step. Depth: 12 Best norm: 17.705473469492258\n",
      "2021-06-23 19:22:05,223 - tensor_to_structure.dfs - INFO - DFS step. Depth: 11 Best norm: 17.705473469492258\n",
      "2021-06-23 19:22:05,231 - tensor_to_structure.dfs - INFO - DFS step. Depth: 11 Best norm: 17.705473469492258\n",
      "2021-06-23 19:22:05,248 - tensor_to_structure.dfs - INFO - DFS step. Depth: 8 Best norm: 17.705473469492258\n",
      "2021-06-23 19:22:07,494 - tensor_to_structure.dfs - INFO - DFS step. Depth: 10 Best norm: 17.705473469492258\n",
      "2021-06-23 19:22:38,478 - tensor_to_structure.dfs - INFO - DFS step. Depth: 12 Best norm: 17.705473469492258\n",
      "2021-06-23 19:22:38,486 - tensor_to_structure.dfs - INFO - DFS step. Depth: 12 Best norm: 17.705473469492258\n",
      "2021-06-23 19:22:38,493 - tensor_to_structure.dfs - INFO - DFS step. Depth: 12 Best norm: 17.705473469492258\n",
      "2021-06-23 19:22:38,501 - tensor_to_structure.dfs - INFO - DFS step. Depth: 12 Best norm: 17.705473469492258\n",
      "2021-06-23 19:22:38,508 - tensor_to_structure.dfs - INFO - DFS step. Depth: 11 Best norm: 17.705473469492258\n",
      "2021-06-23 19:22:38,515 - tensor_to_structure.dfs - INFO - DFS step. Depth: 9 Best norm: 17.705473469492258\n",
      "2021-06-23 19:23:02,299 - tensor_to_structure.dfs - INFO - DFS step. Depth: 11 Best norm: 17.705473469492258\n",
      "2021-06-23 19:23:02,306 - tensor_to_structure.dfs - INFO - DFS step. Depth: 11 Best norm: 17.705473469492258\n",
      "2021-06-23 19:23:02,313 - tensor_to_structure.dfs - INFO - DFS step. Depth: 11 Best norm: 17.705473469492258\n",
      "2021-06-23 19:23:02,321 - tensor_to_structure.dfs - INFO - DFS step. Depth: 10 Best norm: 17.705473469492258\n",
      "2021-06-23 19:23:02,328 - tensor_to_structure.dfs - INFO - DFS step. Depth: 10 Best norm: 17.705473469492258\n",
      "2021-06-23 19:23:02,349 - tensor_to_structure.dfs - INFO - DFS step. Depth: 9 Best norm: 17.705473469492258\n",
      "2021-06-23 19:23:05,019 - tensor_to_structure.dfs - INFO - DFS step. Depth: 11 Best norm: 17.705473469492258\n",
      "2021-06-23 19:23:27,009 - tensor_to_structure.dfs - INFO - DFS step. Depth: 13 Best norm: 17.705473469492258\n",
      "2021-06-23 19:23:27,017 - tensor_to_structure.dfs - INFO - DFS step. Depth: 13 Best norm: 17.705473469492258\n"
     ]
    },
    {
     "name": "stderr",
     "output_type": "stream",
     "text": [
      "2021-06-23 19:23:27,025 - tensor_to_structure.dfs - INFO - DFS step. Depth: 12 Best norm: 17.705473469492258\n",
      "2021-06-23 19:23:27,032 - tensor_to_structure.dfs - INFO - DFS step. Depth: 12 Best norm: 17.705473469492258\n",
      "2021-06-23 19:23:27,040 - tensor_to_structure.dfs - INFO - DFS step. Depth: 13 Best norm: 17.705473469492258\n",
      "2021-06-23 19:23:27,047 - tensor_to_structure.dfs - INFO - DFS step. Depth: 10 Best norm: 17.705473469492258\n",
      "2021-06-23 19:23:55,537 - tensor_to_structure.dfs - INFO - DFS step. Depth: 12 Best norm: 17.705473469492258\n",
      "2021-06-23 19:23:55,547 - tensor_to_structure.dfs - INFO - DFS step. Depth: 12 Best norm: 17.705473469492258\n",
      "2021-06-23 19:23:55,556 - tensor_to_structure.dfs - INFO - DFS step. Depth: 11 Best norm: 17.705473469492258\n",
      "2021-06-23 19:23:55,565 - tensor_to_structure.dfs - INFO - DFS step. Depth: 12 Best norm: 17.705473469492258\n",
      "2021-06-23 19:23:55,574 - tensor_to_structure.dfs - INFO - DFS step. Depth: 11 Best norm: 17.705473469492258\n",
      "2021-06-23 19:23:55,583 - tensor_to_structure.dfs - INFO - DFS step. Depth: 9 Best norm: 17.705473469492258\n",
      "2021-06-23 19:23:59,388 - tensor_to_structure.dfs - INFO - DFS step. Depth: 11 Best norm: 17.705473469492258\n",
      "2021-06-23 19:24:43,826 - tensor_to_structure.dfs - INFO - DFS step. Depth: 13 Best norm: 17.705473469492258\n",
      "2021-06-23 19:24:43,835 - tensor_to_structure.dfs - INFO - DFS step. Depth: 13 Best norm: 17.705473469492258\n",
      "2021-06-23 19:24:43,855 - tensor_to_structure.dfs - INFO - DFS step. Depth: 13 Best norm: 17.705473469492258\n",
      "2021-06-23 19:24:43,867 - tensor_to_structure.dfs - INFO - DFS step. Depth: 12 Best norm: 17.705473469492258\n",
      "2021-06-23 19:24:43,877 - tensor_to_structure.dfs - INFO - DFS step. Depth: 12 Best norm: 17.705473469492258\n",
      "2021-06-23 19:24:43,886 - tensor_to_structure.dfs - INFO - DFS step. Depth: 10 Best norm: 17.705473469492258\n",
      "2021-06-23 19:25:07,596 - tensor_to_structure.dfs - INFO - DFS step. Depth: 12 Best norm: 17.705473469492258\n",
      "2021-06-23 19:25:07,610 - tensor_to_structure.dfs - INFO - DFS step. Depth: 12 Best norm: 17.705473469492258\n",
      "2021-06-23 19:25:07,622 - tensor_to_structure.dfs - INFO - DFS step. Depth: 11 Best norm: 17.705473469492258\n",
      "2021-06-23 19:25:07,633 - tensor_to_structure.dfs - INFO - DFS step. Depth: 12 Best norm: 17.705473469492258\n",
      "2021-06-23 19:25:07,656 - tensor_to_structure.dfs - INFO - DFS step. Depth: 11 Best norm: 17.705473469492258\n",
      "2021-06-23 19:25:07,674 - tensor_to_structure.dfs - INFO - DFS step. Depth: 6 Best norm: 17.705473469492258\n",
      "2021-06-23 19:25:27,528 - tensor_to_structure.dfs - INFO - DFS step. Depth: 8 Best norm: 17.705473469492258\n",
      "2021-06-23 19:25:31,126 - tensor_to_structure.dfs - INFO - DFS step. Depth: 9 Best norm: 17.705473469492258\n",
      "2021-06-23 19:25:58,752 - tensor_to_structure.dfs - INFO - DFS step. Depth: 11 Best norm: 17.705473469492258\n",
      "2021-06-23 19:25:58,765 - tensor_to_structure.dfs - INFO - DFS step. Depth: 11 Best norm: 17.705473469492258\n",
      "2021-06-23 19:25:58,775 - tensor_to_structure.dfs - INFO - DFS step. Depth: 11 Best norm: 17.705473469492258\n",
      "2021-06-23 19:25:58,785 - tensor_to_structure.dfs - INFO - DFS step. Depth: 10 Best norm: 17.705473469492258\n",
      "2021-06-23 19:25:58,801 - tensor_to_structure.dfs - INFO - DFS step. Depth: 11 Best norm: 17.705473469492258\n",
      "2021-06-23 19:26:09,799 - tensor_to_structure.dfs - INFO - DFS step. Depth: 13 Best norm: 17.705473469492258\n",
      "2021-06-23 19:26:09,811 - tensor_to_structure.dfs - INFO - DFS step. Depth: 12 Best norm: 17.705473469492258\n",
      "2021-06-23 19:26:09,820 - tensor_to_structure.dfs - INFO - DFS step. Depth: 10 Best norm: 17.705473469492258\n",
      "2021-06-23 19:26:39,513 - tensor_to_structure.dfs - INFO - DFS step. Depth: 12 Best norm: 17.705473469492258\n",
      "2021-06-23 19:26:39,524 - tensor_to_structure.dfs - INFO - DFS step. Depth: 12 Best norm: 17.705473469492258\n",
      "2021-06-23 19:26:39,535 - tensor_to_structure.dfs - INFO - DFS step. Depth: 11 Best norm: 17.705473469492258\n",
      "2021-06-23 19:26:39,546 - tensor_to_structure.dfs - INFO - DFS step. Depth: 12 Best norm: 17.705473469492258\n",
      "2021-06-23 19:26:39,557 - tensor_to_structure.dfs - INFO - DFS step. Depth: 12 Best norm: 17.705473469492258\n",
      "2021-06-23 19:26:50,444 - tensor_to_structure.dfs - INFO - DFS step. Depth: 14 Best norm: 17.705473469492258\n",
      "2021-06-23 19:26:50,464 - tensor_to_structure.dfs - INFO - DFS step. Depth: 13 Best norm: 17.705473469492258\n",
      "2021-06-23 19:26:50,474 - tensor_to_structure.dfs - INFO - DFS step. Depth: 8 Best norm: 17.705473469492258\n",
      "2021-06-23 19:26:54,508 - tensor_to_structure.dfs - INFO - DFS step. Depth: 10 Best norm: 17.705473469492258\n",
      "2021-06-23 19:27:26,872 - tensor_to_structure.dfs - INFO - DFS step. Depth: 12 Best norm: 17.705473469492258\n",
      "2021-06-23 19:27:26,887 - tensor_to_structure.dfs - INFO - DFS step. Depth: 12 Best norm: 17.705473469492258\n",
      "2021-06-23 19:27:26,910 - tensor_to_structure.dfs - INFO - DFS step. Depth: 11 Best norm: 17.705473469492258\n",
      "2021-06-23 19:27:26,923 - tensor_to_structure.dfs - INFO - DFS step. Depth: 12 Best norm: 17.705473469492258\n",
      "2021-06-23 19:27:26,933 - tensor_to_structure.dfs - INFO - DFS step. Depth: 12 Best norm: 17.705473469492258\n",
      "2021-06-23 19:27:37,731 - tensor_to_structure.dfs - INFO - DFS step. Depth: 14 Best norm: 17.705473469492258\n",
      "2021-06-23 19:27:37,742 - tensor_to_structure.dfs - INFO - DFS step. Depth: 13 Best norm: 17.705473469492258\n",
      "2021-06-23 19:27:37,751 - tensor_to_structure.dfs - INFO - DFS step. Depth: 9 Best norm: 17.705473469492258\n",
      "2021-06-23 19:28:08,906 - tensor_to_structure.dfs - INFO - DFS step. Depth: 10 Best norm: 17.705473469492258\n",
      "2021-06-23 19:28:08,918 - tensor_to_structure.dfs - INFO - DFS step. Depth: 11 Best norm: 17.705473469492258\n",
      "2021-06-23 19:28:08,929 - tensor_to_structure.dfs - INFO - DFS step. Depth: 11 Best norm: 17.705473469492258\n",
      "2021-06-23 19:28:08,939 - tensor_to_structure.dfs - INFO - DFS step. Depth: 11 Best norm: 17.705473469492258\n",
      "2021-06-23 19:28:08,950 - tensor_to_structure.dfs - INFO - DFS step. Depth: 11 Best norm: 17.705473469492258\n",
      "2021-06-23 19:28:19,746 - tensor_to_structure.dfs - INFO - DFS step. Depth: 13 Best norm: 17.705473469492258\n",
      "2021-06-23 19:28:19,754 - tensor_to_structure.dfs - INFO - DFS step. Depth: 12 Best norm: 17.705473469492258\n",
      "2021-06-23 19:28:19,763 - tensor_to_structure.dfs - INFO - DFS step. Depth: 8 Best norm: 17.705473469492258\n",
      "2021-06-23 19:28:23,821 - tensor_to_structure.dfs - INFO - DFS step. Depth: 10 Best norm: 17.705473469492258\n",
      "2021-06-23 19:28:58,244 - tensor_to_structure.dfs - INFO - DFS step. Depth: 12 Best norm: 17.705473469492258\n",
      "2021-06-23 19:28:58,261 - tensor_to_structure.dfs - INFO - DFS step. Depth: 11 Best norm: 17.705473469492258\n",
      "2021-06-23 19:28:58,273 - tensor_to_structure.dfs - INFO - DFS step. Depth: 12 Best norm: 17.705473469492258\n",
      "2021-06-23 19:28:58,286 - tensor_to_structure.dfs - INFO - DFS step. Depth: 12 Best norm: 17.705473469492258\n",
      "2021-06-23 19:28:58,298 - tensor_to_structure.dfs - INFO - DFS step. Depth: 12 Best norm: 17.705473469492258\n",
      "2021-06-23 19:29:10,549 - tensor_to_structure.dfs - INFO - DFS step. Depth: 14 Best norm: 17.705473469492258\n",
      "2021-06-23 19:29:10,578 - tensor_to_structure.dfs - INFO - DFS step. Depth: 13 Best norm: 17.705473469492258\n",
      "2021-06-23 19:29:10,593 - tensor_to_structure.dfs - INFO - DFS step. Depth: 9 Best norm: 17.705473469492258\n",
      "2021-06-23 19:29:37,171 - tensor_to_structure.dfs - INFO - DFS step. Depth: 11 Best norm: 17.705473469492258\n",
      "2021-06-23 19:29:37,188 - tensor_to_structure.dfs - INFO - DFS step. Depth: 10 Best norm: 17.705473469492258\n",
      "2021-06-23 19:29:37,200 - tensor_to_structure.dfs - INFO - DFS step. Depth: 11 Best norm: 17.705473469492258\n",
      "2021-06-23 19:29:37,210 - tensor_to_structure.dfs - INFO - DFS step. Depth: 11 Best norm: 17.705473469492258\n",
      "2021-06-23 19:29:37,221 - tensor_to_structure.dfs - INFO - DFS step. Depth: 11 Best norm: 17.705473469492258\n",
      "2021-06-23 19:29:47,415 - tensor_to_structure.dfs - INFO - DFS step. Depth: 13 Best norm: 17.705473469492258\n",
      "2021-06-23 19:29:47,426 - tensor_to_structure.dfs - INFO - DFS step. Depth: 12 Best norm: 17.705473469492258\n",
      "2021-06-23 19:29:47,435 - tensor_to_structure.dfs - INFO - DFS step. Depth: 7 Best norm: 17.705473469492258\n",
      "2021-06-23 19:29:50,783 - tensor_to_structure.dfs - INFO - DFS step. Depth: 8 Best norm: 17.705473469492258\n"
     ]
    },
    {
     "name": "stderr",
     "output_type": "stream",
     "text": [
      "2021-06-23 19:30:16,497 - tensor_to_structure.dfs - INFO - DFS step. Depth: 10 Best norm: 17.705473469492258\n",
      "2021-06-23 19:30:16,508 - tensor_to_structure.dfs - INFO - DFS step. Depth: 10 Best norm: 17.705473469492258\n",
      "2021-06-23 19:30:16,518 - tensor_to_structure.dfs - INFO - DFS step. Depth: 10 Best norm: 17.705473469492258\n",
      "2021-06-23 19:30:16,527 - tensor_to_structure.dfs - INFO - DFS step. Depth: 9 Best norm: 17.705473469492258\n",
      "2021-06-23 19:30:16,537 - tensor_to_structure.dfs - INFO - DFS step. Depth: 10 Best norm: 17.705473469492258\n",
      "2021-06-23 19:30:25,326 - tensor_to_structure.dfs - INFO - DFS step. Depth: 12 Best norm: 17.705473469492258\n",
      "2021-06-23 19:30:25,336 - tensor_to_structure.dfs - INFO - DFS step. Depth: 11 Best norm: 17.705473469492258\n",
      "2021-06-23 19:30:25,351 - tensor_to_structure.dfs - INFO - DFS step. Depth: 9 Best norm: 17.705473469492258\n",
      "2021-06-23 19:30:52,966 - tensor_to_structure.dfs - INFO - DFS step. Depth: 11 Best norm: 17.705473469492258\n",
      "2021-06-23 19:30:52,977 - tensor_to_structure.dfs - INFO - DFS step. Depth: 10 Best norm: 17.705473469492258\n",
      "2021-06-23 19:30:52,987 - tensor_to_structure.dfs - INFO - DFS step. Depth: 11 Best norm: 17.705473469492258\n",
      "2021-06-23 19:30:53,012 - tensor_to_structure.dfs - INFO - DFS step. Depth: 11 Best norm: 17.705473469492258\n",
      "2021-06-23 19:30:53,036 - tensor_to_structure.dfs - INFO - DFS step. Depth: 11 Best norm: 17.705473469492258\n",
      "2021-06-23 19:31:02,773 - tensor_to_structure.dfs - INFO - DFS step. Depth: 13 Best norm: 17.705473469492258\n",
      "2021-06-23 19:31:02,783 - tensor_to_structure.dfs - INFO - DFS step. Depth: 12 Best norm: 17.705473469492258\n",
      "2021-06-23 19:31:02,791 - tensor_to_structure.dfs - INFO - DFS step. Depth: 8 Best norm: 17.705473469492258\n",
      "2021-06-23 19:31:07,113 - tensor_to_structure.dfs - INFO - DFS step. Depth: 10 Best norm: 17.705473469492258\n",
      "2021-06-23 19:31:39,420 - tensor_to_structure.dfs - INFO - DFS step. Depth: 12 Best norm: 17.705473469492258\n",
      "2021-06-23 19:31:39,443 - tensor_to_structure.dfs - INFO - DFS step. Depth: 11 Best norm: 17.705473469492258\n",
      "2021-06-23 19:31:39,456 - tensor_to_structure.dfs - INFO - DFS step. Depth: 12 Best norm: 17.705473469492258\n",
      "2021-06-23 19:31:39,470 - tensor_to_structure.dfs - INFO - DFS step. Depth: 12 Best norm: 17.705473469492258\n",
      "2021-06-23 19:31:39,482 - tensor_to_structure.dfs - INFO - DFS step. Depth: 12 Best norm: 17.705473469492258\n",
      "2021-06-23 19:31:51,934 - tensor_to_structure.dfs - INFO - DFS step. Depth: 14 Best norm: 17.705473469492258\n",
      "2021-06-23 19:31:51,944 - tensor_to_structure.dfs - INFO - DFS step. Depth: 13 Best norm: 17.705473469492258\n",
      "2021-06-23 19:31:51,952 - tensor_to_structure.dfs - INFO - DFS step. Depth: 9 Best norm: 17.705473469492258\n",
      "2021-06-23 19:32:16,208 - tensor_to_structure.dfs - INFO - DFS step. Depth: 11 Best norm: 17.705473469492258\n",
      "2021-06-23 19:32:16,219 - tensor_to_structure.dfs - INFO - DFS step. Depth: 10 Best norm: 17.705473469492258\n",
      "2021-06-23 19:32:16,228 - tensor_to_structure.dfs - INFO - DFS step. Depth: 11 Best norm: 17.705473469492258\n",
      "2021-06-23 19:32:16,251 - tensor_to_structure.dfs - INFO - DFS step. Depth: 11 Best norm: 17.705473469492258\n",
      "2021-06-23 19:32:16,266 - tensor_to_structure.dfs - INFO - DFS step. Depth: 11 Best norm: 17.705473469492258\n",
      "2021-06-23 19:32:26,458 - tensor_to_structure.dfs - INFO - DFS step. Depth: 13 Best norm: 17.705473469492258\n",
      "2021-06-23 19:32:26,474 - tensor_to_structure.dfs - INFO - DFS step. Depth: 12 Best norm: 17.705473469492258\n",
      "2021-06-23 19:32:26,487 - tensor_to_structure.dfs - INFO - DFS step. Depth: 5 Best norm: 17.705473469492258\n",
      "2021-06-23 19:32:34,396 - tensor_to_structure.dfs - INFO - DFS step. Depth: 7 Best norm: 17.705473469492258\n",
      "2021-06-23 19:33:03,738 - tensor_to_structure.dfs - INFO - DFS step. Depth: 9 Best norm: 17.705473469492258\n",
      "2021-06-23 19:33:08,356 - tensor_to_structure.dfs - INFO - DFS step. Depth: 10 Best norm: 17.705473469492258\n",
      "2021-06-23 19:33:30,777 - tensor_to_structure.dfs - INFO - DFS step. Depth: 12 Best norm: 17.705473469492258\n",
      "2021-06-23 19:33:30,790 - tensor_to_structure.dfs - INFO - DFS step. Depth: 11 Best norm: 17.705473469492258\n",
      "2021-06-23 19:33:30,813 - tensor_to_structure.dfs - INFO - DFS step. Depth: 12 Best norm: 17.705473469492258\n",
      "2021-06-23 19:33:30,829 - tensor_to_structure.dfs - INFO - DFS step. Depth: 12 Best norm: 17.705473469492258\n",
      "2021-06-23 19:33:30,843 - tensor_to_structure.dfs - INFO - DFS step. Depth: 11 Best norm: 17.705473469492258\n",
      "2021-06-23 19:33:30,857 - tensor_to_structure.dfs - INFO - DFS step. Depth: 11 Best norm: 17.705473469492258\n",
      "2021-06-23 19:33:57,049 - tensor_to_structure.dfs - INFO - DFS step. Depth: 13 Best norm: 17.705473469492258\n",
      "2021-06-23 19:33:57,059 - tensor_to_structure.dfs - INFO - DFS step. Depth: 12 Best norm: 17.705473469492258\n",
      "2021-06-23 19:33:57,075 - tensor_to_structure.dfs - INFO - DFS step. Depth: 13 Best norm: 17.705473469492258\n",
      "2021-06-23 19:33:57,089 - tensor_to_structure.dfs - INFO - DFS step. Depth: 12 Best norm: 17.705473469492258\n",
      "2021-06-23 19:33:57,102 - tensor_to_structure.dfs - INFO - DFS step. Depth: 13 Best norm: 17.705473469492258\n",
      "2021-06-23 19:33:57,113 - tensor_to_structure.dfs - INFO - DFS step. Depth: 9 Best norm: 17.705473469492258\n",
      "2021-06-23 19:34:01,587 - tensor_to_structure.dfs - INFO - DFS step. Depth: 10 Best norm: 17.705473469492258\n",
      "2021-06-23 19:34:24,090 - tensor_to_structure.dfs - INFO - DFS step. Depth: 12 Best norm: 17.705473469492258\n",
      "2021-06-23 19:34:24,107 - tensor_to_structure.dfs - INFO - DFS step. Depth: 11 Best norm: 17.705473469492258\n",
      "2021-06-23 19:34:24,122 - tensor_to_structure.dfs - INFO - DFS step. Depth: 12 Best norm: 17.705473469492258\n",
      "2021-06-23 19:34:24,132 - tensor_to_structure.dfs - INFO - DFS step. Depth: 11 Best norm: 17.705473469492258\n",
      "2021-06-23 19:34:24,142 - tensor_to_structure.dfs - INFO - DFS step. Depth: 12 Best norm: 17.705473469492258\n",
      "2021-06-23 19:34:24,152 - tensor_to_structure.dfs - INFO - DFS step. Depth: 11 Best norm: 17.705473469492258\n",
      "2021-06-23 19:34:48,755 - tensor_to_structure.dfs - INFO - DFS step. Depth: 13 Best norm: 17.705473469492258\n",
      "2021-06-23 19:34:48,765 - tensor_to_structure.dfs - INFO - DFS step. Depth: 12 Best norm: 17.705473469492258\n",
      "2021-06-23 19:34:48,779 - tensor_to_structure.dfs - INFO - DFS step. Depth: 12 Best norm: 17.705473469492258\n",
      "2021-06-23 19:34:48,792 - tensor_to_structure.dfs - INFO - DFS step. Depth: 13 Best norm: 17.705473469492258\n",
      "2021-06-23 19:34:48,804 - tensor_to_structure.dfs - INFO - DFS step. Depth: 13 Best norm: 17.705473469492258\n",
      "2021-06-23 19:34:48,821 - tensor_to_structure.dfs - INFO - DFS step. Depth: 9 Best norm: 17.705473469492258\n",
      "2021-06-23 19:34:53,545 - tensor_to_structure.dfs - INFO - DFS step. Depth: 10 Best norm: 17.705473469492258\n",
      "2021-06-23 19:35:16,522 - tensor_to_structure.dfs - INFO - DFS step. Depth: 12 Best norm: 17.705473469492258\n",
      "2021-06-23 19:35:16,535 - tensor_to_structure.dfs - INFO - DFS step. Depth: 11 Best norm: 17.705473469492258\n",
      "2021-06-23 19:35:16,544 - tensor_to_structure.dfs - INFO - DFS step. Depth: 12 Best norm: 17.705473469492258\n",
      "2021-06-23 19:35:16,563 - tensor_to_structure.dfs - INFO - DFS step. Depth: 11 Best norm: 17.705473469492258\n",
      "2021-06-23 19:35:16,573 - tensor_to_structure.dfs - INFO - DFS step. Depth: 12 Best norm: 17.705473469492258\n",
      "2021-06-23 19:35:16,583 - tensor_to_structure.dfs - INFO - DFS step. Depth: 11 Best norm: 17.705473469492258\n",
      "2021-06-23 19:35:41,236 - tensor_to_structure.dfs - INFO - DFS step. Depth: 13 Best norm: 17.705473469492258\n",
      "2021-06-23 19:35:41,254 - tensor_to_structure.dfs - INFO - DFS step. Depth: 12 Best norm: 17.705473469492258\n",
      "2021-06-23 19:35:41,270 - tensor_to_structure.dfs - INFO - DFS step. Depth: 13 Best norm: 17.705473469492258\n",
      "2021-06-23 19:35:41,286 - tensor_to_structure.dfs - INFO - DFS step. Depth: 12 Best norm: 17.705473469492258\n",
      "2021-06-23 19:35:41,302 - tensor_to_structure.dfs - INFO - DFS step. Depth: 13 Best norm: 17.705473469492258\n",
      "2021-06-23 19:35:41,316 - tensor_to_structure.dfs - INFO - DFS step. Depth: 9 Best norm: 17.705473469492258\n",
      "2021-06-23 19:35:46,204 - tensor_to_structure.dfs - INFO - DFS step. Depth: 11 Best norm: 17.705473469492258\n",
      "2021-06-23 19:36:10,434 - tensor_to_structure.dfs - INFO - DFS step. Depth: 13 Best norm: 17.705473469492258\n"
     ]
    },
    {
     "name": "stderr",
     "output_type": "stream",
     "text": [
      "2021-06-23 19:36:10,444 - tensor_to_structure.dfs - INFO - DFS step. Depth: 12 Best norm: 17.705473469492258\n",
      "2021-06-23 19:36:10,470 - tensor_to_structure.dfs - INFO - DFS step. Depth: 13 Best norm: 17.705473469492258\n",
      "2021-06-23 19:36:10,486 - tensor_to_structure.dfs - INFO - DFS step. Depth: 12 Best norm: 17.705473469492258\n",
      "2021-06-23 19:36:10,502 - tensor_to_structure.dfs - INFO - DFS step. Depth: 13 Best norm: 17.705473469492258\n",
      "2021-06-23 19:36:10,516 - tensor_to_structure.dfs - INFO - DFS step. Depth: 10 Best norm: 17.705473469492258\n",
      "2021-06-23 19:36:32,077 - tensor_to_structure.dfs - INFO - DFS step. Depth: 12 Best norm: 17.705473469492258\n",
      "2021-06-23 19:36:32,089 - tensor_to_structure.dfs - INFO - DFS step. Depth: 11 Best norm: 17.705473469492258\n",
      "2021-06-23 19:36:32,101 - tensor_to_structure.dfs - INFO - DFS step. Depth: 11 Best norm: 17.705473469492258\n",
      "2021-06-23 19:36:32,114 - tensor_to_structure.dfs - INFO - DFS step. Depth: 12 Best norm: 17.705473469492258\n",
      "2021-06-23 19:36:32,126 - tensor_to_structure.dfs - INFO - DFS step. Depth: 12 Best norm: 17.705473469492258\n",
      "2021-06-23 19:36:32,134 - tensor_to_structure.dfs - INFO - DFS step. Depth: 8 Best norm: 17.705473469492258\n",
      "2021-06-23 19:36:35,733 - tensor_to_structure.dfs - INFO - DFS step. Depth: 10 Best norm: 17.705473469492258\n",
      "2021-06-23 19:36:56,581 - tensor_to_structure.dfs - INFO - DFS step. Depth: 12 Best norm: 17.705473469492258\n",
      "2021-06-23 19:36:56,593 - tensor_to_structure.dfs - INFO - DFS step. Depth: 11 Best norm: 17.705473469492258\n",
      "2021-06-23 19:36:56,606 - tensor_to_structure.dfs - INFO - DFS step. Depth: 12 Best norm: 17.705473469492258\n",
      "2021-06-23 19:36:56,618 - tensor_to_structure.dfs - INFO - DFS step. Depth: 11 Best norm: 17.705473469492258\n",
      "2021-06-23 19:36:56,631 - tensor_to_structure.dfs - INFO - DFS step. Depth: 12 Best norm: 17.705473469492258\n",
      "2021-06-23 19:36:56,643 - tensor_to_structure.dfs - INFO - DFS step. Depth: 9 Best norm: 17.705473469492258\n",
      "2021-06-23 19:37:15,635 - tensor_to_structure.dfs - INFO - DFS step. Depth: 11 Best norm: 17.705473469492258\n",
      "2021-06-23 19:37:15,643 - tensor_to_structure.dfs - INFO - DFS step. Depth: 10 Best norm: 17.705473469492258\n",
      "2021-06-23 19:37:15,662 - tensor_to_structure.dfs - INFO - DFS step. Depth: 11 Best norm: 17.705473469492258\n",
      "2021-06-23 19:37:15,679 - tensor_to_structure.dfs - INFO - DFS step. Depth: 10 Best norm: 17.705473469492258\n",
      "2021-06-23 19:37:15,690 - tensor_to_structure.dfs - INFO - DFS step. Depth: 11 Best norm: 17.705473469492258\n",
      "2021-06-23 19:37:15,706 - tensor_to_structure.dfs - INFO - DFS step. Depth: 7 Best norm: 17.705473469492258\n",
      "2021-06-23 19:37:50,279 - tensor_to_structure.dfs - INFO - DFS step. Depth: 9 Best norm: 17.705473469492258\n",
      "2021-06-23 19:37:55,012 - tensor_to_structure.dfs - INFO - DFS step. Depth: 11 Best norm: 17.705473469492258\n",
      "2021-06-23 19:37:55,022 - tensor_to_structure.dfs - INFO - DFS step. Depth: 10 Best norm: 17.705473469492258\n",
      "2021-06-23 19:37:55,031 - tensor_to_structure.dfs - INFO - DFS step. Depth: 9 Best norm: 17.705473469492258\n",
      "2021-06-23 19:37:59,998 - tensor_to_structure.dfs - INFO - DFS step. Depth: 11 Best norm: 17.705473469492258\n",
      "2021-06-23 19:38:00,010 - tensor_to_structure.dfs - INFO - DFS step. Depth: 10 Best norm: 17.705473469492258\n",
      "2021-06-23 19:38:00,027 - tensor_to_structure.dfs - INFO - DFS step. Depth: 9 Best norm: 17.705473469492258\n",
      "2021-06-23 19:38:04,414 - tensor_to_structure.dfs - INFO - DFS step. Depth: 10 Best norm: 17.705473469492258\n",
      "2021-06-23 19:38:04,429 - tensor_to_structure.dfs - INFO - DFS step. Depth: 11 Best norm: 17.705473469492258\n",
      "2021-06-23 19:38:04,441 - tensor_to_structure.dfs - INFO - DFS step. Depth: 9 Best norm: 17.705473469492258\n",
      "2021-06-23 19:38:08,919 - tensor_to_structure.dfs - INFO - DFS step. Depth: 11 Best norm: 17.705473469492258\n",
      "2021-06-23 19:38:08,944 - tensor_to_structure.dfs - INFO - DFS step. Depth: 10 Best norm: 17.705473469492258\n",
      "2021-06-23 19:38:08,961 - tensor_to_structure.dfs - INFO - DFS step. Depth: 9 Best norm: 17.705473469492258\n",
      "2021-06-23 19:38:13,672 - tensor_to_structure.dfs - INFO - DFS step. Depth: 10 Best norm: 17.705473469492258\n",
      "2021-06-23 19:38:13,686 - tensor_to_structure.dfs - INFO - DFS step. Depth: 11 Best norm: 17.705473469492258\n",
      "2021-06-23 19:38:13,699 - tensor_to_structure.dfs - INFO - DFS step. Depth: 7 Best norm: 17.705473469492258\n",
      "2021-06-23 19:38:48,251 - tensor_to_structure.dfs - INFO - DFS step. Depth: 9 Best norm: 17.705473469492258\n",
      "2021-06-23 19:38:52,832 - tensor_to_structure.dfs - INFO - DFS step. Depth: 11 Best norm: 17.705473469492258\n",
      "2021-06-23 19:38:52,848 - tensor_to_structure.dfs - INFO - DFS step. Depth: 10 Best norm: 17.705473469492258\n",
      "2021-06-23 19:38:52,865 - tensor_to_structure.dfs - INFO - DFS step. Depth: 9 Best norm: 17.705473469492258\n",
      "2021-06-23 19:38:57,664 - tensor_to_structure.dfs - INFO - DFS step. Depth: 11 Best norm: 17.705473469492258\n",
      "2021-06-23 19:38:57,674 - tensor_to_structure.dfs - INFO - DFS step. Depth: 10 Best norm: 17.705473469492258\n",
      "2021-06-23 19:38:57,691 - tensor_to_structure.dfs - INFO - DFS step. Depth: 9 Best norm: 17.705473469492258\n",
      "2021-06-23 19:39:02,386 - tensor_to_structure.dfs - INFO - DFS step. Depth: 11 Best norm: 17.705473469492258\n",
      "2021-06-23 19:39:02,403 - tensor_to_structure.dfs - INFO - DFS step. Depth: 10 Best norm: 17.705473469492258\n",
      "2021-06-23 19:39:02,417 - tensor_to_structure.dfs - INFO - DFS step. Depth: 9 Best norm: 17.705473469492258\n",
      "2021-06-23 19:39:07,195 - tensor_to_structure.dfs - INFO - DFS step. Depth: 11 Best norm: 17.705473469492258\n",
      "2021-06-23 19:39:07,209 - tensor_to_structure.dfs - INFO - DFS step. Depth: 10 Best norm: 17.705473469492258\n",
      "2021-06-23 19:39:07,232 - tensor_to_structure.dfs - INFO - DFS step. Depth: 9 Best norm: 17.705473469492258\n",
      "2021-06-23 19:39:11,978 - tensor_to_structure.dfs - INFO - DFS step. Depth: 11 Best norm: 17.705473469492258\n",
      "2021-06-23 19:39:11,994 - tensor_to_structure.dfs - INFO - DFS step. Depth: 10 Best norm: 17.705473469492258\n",
      "2021-06-23 19:39:12,004 - tensor_to_structure.dfs - INFO - DFS step. Depth: 6 Best norm: 17.705473469492258\n",
      "2021-06-23 19:39:30,613 - tensor_to_structure.dfs - INFO - DFS step. Depth: 8 Best norm: 17.705473469492258\n",
      "2021-06-23 19:39:34,326 - tensor_to_structure.dfs - INFO - DFS step. Depth: 9 Best norm: 17.705473469492258\n",
      "2021-06-23 19:40:29,576 - tensor_to_structure.dfs - INFO - DFS step. Depth: 11 Best norm: 17.705473469492258\n",
      "2021-06-23 19:40:29,599 - tensor_to_structure.dfs - INFO - DFS step. Depth: 11 Best norm: 17.705473469492258\n",
      "2021-06-23 19:40:29,611 - tensor_to_structure.dfs - INFO - DFS step. Depth: 11 Best norm: 17.705473469492258\n",
      "2021-06-23 19:40:54,647 - tensor_to_structure.dfs - INFO - DFS step. Depth: 13 Best norm: 17.705473469492258\n",
      "2021-06-23 19:40:54,683 - tensor_to_structure.dfs - INFO - DFS step. Depth: 12 Best norm: 17.705473469492258\n",
      "2021-06-23 19:40:54,717 - tensor_to_structure.dfs - INFO - DFS step. Depth: 11 Best norm: 17.705473469492258\n",
      "2021-06-23 19:41:04,628 - tensor_to_structure.dfs - INFO - DFS step. Depth: 12 Best norm: 17.705473469492258\n",
      "2021-06-23 19:41:04,664 - tensor_to_structure.dfs - INFO - DFS step. Depth: 11 Best norm: 17.705473469492258\n",
      "2021-06-23 19:41:04,699 - tensor_to_structure.dfs - INFO - DFS step. Depth: 10 Best norm: 17.705473469492258\n",
      "2021-06-23 19:41:48,468 - tensor_to_structure.dfs - INFO - DFS step. Depth: 12 Best norm: 17.705473469492258\n",
      "2021-06-23 19:41:48,476 - tensor_to_structure.dfs - INFO - DFS step. Depth: 12 Best norm: 17.705473469492258\n",
      "2021-06-23 19:41:48,485 - tensor_to_structure.dfs - INFO - DFS step. Depth: 12 Best norm: 17.705473469492258\n",
      "2021-06-23 19:41:55,736 - tensor_to_structure.dfs - INFO - DFS step. Depth: 14 Best norm: 17.705473469492258\n",
      "2021-06-23 19:41:55,744 - tensor_to_structure.dfs - INFO - DFS step. Depth: 13 Best norm: 17.705473469492258\n",
      "2021-06-23 19:41:55,752 - tensor_to_structure.dfs - INFO - DFS step. Depth: 12 Best norm: 17.705473469492258\n",
      "2021-06-23 19:41:55,760 - tensor_to_structure.dfs - INFO - DFS step. Depth: 12 Best norm: 17.705473469492258\n",
      "2021-06-23 19:41:55,776 - tensor_to_structure.dfs - INFO - DFS step. Depth: 8 Best norm: 17.705473469492258\n",
      "2021-06-23 19:41:58,033 - tensor_to_structure.dfs - INFO - DFS step. Depth: 10 Best norm: 17.705473469492258\n"
     ]
    }
   ],
   "source": [
    "result = fitter.tensor_to_molecule(original_tensor)"
   ]
  },
  {
   "cell_type": "code",
   "execution_count": 34,
   "id": "afd7ea3c",
   "metadata": {},
   "outputs": [],
   "source": [
    "best_molecule = result[0][1]\n",
    "generated_tensor = molecule_to_tensor(best_molecule)\n",
    "tts_utilities.plot_side_by_side(original_tensor, generated_tensor)"
   ]
  },
  {
   "cell_type": "code",
   "execution_count": 35,
   "id": "25a7ba8e",
   "metadata": {},
   "outputs": [],
   "source": [
    "tts_utilities.close_mlab()"
   ]
  },
  {
   "cell_type": "code",
   "execution_count": null,
   "id": "dde86106",
   "metadata": {},
   "outputs": [],
   "source": []
  }
 ],
 "metadata": {
  "kernelspec": {
   "display_name": "Python 3",
   "language": "python",
   "name": "python3"
  },
  "language_info": {
   "codemirror_mode": {
    "name": "ipython",
    "version": 3
   },
   "file_extension": ".py",
   "mimetype": "text/x-python",
   "name": "python",
   "nbconvert_exporter": "python",
   "pygments_lexer": "ipython3",
   "version": "3.8.10"
  }
 },
 "nbformat": 4,
 "nbformat_minor": 5
}
